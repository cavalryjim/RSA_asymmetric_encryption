{
 "cells": [
  {
   "cell_type": "markdown",
   "id": "55e12620",
   "metadata": {},
   "source": [
    "# Asymmetric Cryptography with Python"
   ]
  },
  {
   "cell_type": "markdown",
   "id": "37c06f35",
   "metadata": {},
   "source": [
    "## RSA (Rivest-Shamir-Adleman) Cryptography\n",
    "\n",
    "RSA cryptography, named after its inventors Ron Rivest, Adi Shamir, and Leonard Adleman, is a widely used asymmetric encryption algorithm. It is a fundamental tool in modern cryptography and is used for secure data transmission, digital signatures, and various other cryptographic applications. RSA relies on the mathematical properties of prime numbers for its security.\n",
    "\n",
    "Here's a simplified explanation of how RSA cryptography works:\n",
    "\n",
    "### Key Generation:\n",
    "- The first step is to generate a pair of keys: a public key and a private key.\n",
    "- The public key is meant to be shared with anyone who wants to send you encrypted data. It contains two components: the modulus (usually represented as 'n') and the public exponent (usually represented as 'e').\n",
    "- The private key is kept secret and should never be shared. It contains the modulus and a private exponent (usually represented as 'd').\n",
    "\n",
    "### Encryption:\n",
    "- When someone wants to send you an encrypted message, they use your public key to encrypt it.\n",
    "- The encryption process involves converting the plaintext message into a numeric value, raising it to the power of 'e', and taking the result modulo 'n'.\n",
    "\n",
    "### Decryption:\n",
    "- You, as the recipient, use your private key to decrypt the message.\n",
    "- The decryption process involves taking the encrypted numeric value, raising it to the power of 'd', and taking the result modulo 'n'.\n"
   ]
  },
  {
   "cell_type": "markdown",
   "id": "c7a82b38",
   "metadata": {},
   "source": [
    "This notebook will utilize the pycryptodome package.  You can read more about the package here: https://pycryptodome.readthedocs.io/en/latest/index.html\n",
    "\n",
    "You will likely need to install the package before usage.\n",
    "```$ pip install pycryptodome```"
   ]
  },
  {
   "cell_type": "code",
   "execution_count": null,
   "id": "01486c45",
   "metadata": {},
   "outputs": [],
   "source": [
    "# Importing necessary modules\n",
    "from Crypto.Cipher import PKCS1_OAEP\n",
    "from Crypto.PublicKey import RSA\n",
    "from binascii import hexlify\n"
   ]
  },
  {
   "cell_type": "markdown",
   "id": "8dc8c1a8",
   "metadata": {},
   "source": [
    "```PKCS1_OAEP``` is the RSA based cipher using OAEP (Optimal Asymmetric Encryption Padding) padding to bring in non-deterministic and more security to encryption. The ```RSA``` class is used to generate the public-private key pairs."
   ]
  },
  {
   "cell_type": "markdown",
   "id": "7dd3a20b",
   "metadata": {},
   "source": [
    "## Creating our keys\n",
    "\n",
    "Using the RSA class, we will generate a random private key of length 1024-bits using the ```generate()``` function. "
   ]
  },
  {
   "cell_type": "code",
   "execution_count": null,
   "id": "b52a3690",
   "metadata": {},
   "outputs": [],
   "source": [
    "# Generating private key (RsaKey object) of key length of 1024 bits\n",
    "private_key = RSA.generate(1024)\n"
   ]
  },
  {
   "cell_type": "markdown",
   "id": "2a354e6e",
   "metadata": {},
   "source": [
    "The public key is derived from the private key."
   ]
  },
  {
   "cell_type": "code",
   "execution_count": null,
   "id": "aafd9ff7",
   "metadata": {},
   "outputs": [],
   "source": [
    "# Generating the public key from the private key\n",
    "public_key1 = private_key.publickey()\n"
   ]
  },
  {
   "cell_type": "markdown",
   "id": "9c6aeb89",
   "metadata": {},
   "source": [
    "We can view the keys by converting them to strings.  "
   ]
  },
  {
   "cell_type": "code",
   "execution_count": null,
   "id": "c9fac8a4",
   "metadata": {},
   "outputs": [],
   "source": [
    "private_key_str = private_key.export_key().decode()\n",
    "print(private_key_str)"
   ]
  },
  {
   "cell_type": "code",
   "execution_count": null,
   "id": "161e453a",
   "metadata": {},
   "outputs": [],
   "source": [
    "public_key_str = public_key1.export_key().decode()\n",
    "print(public_key_str)"
   ]
  },
  {
   "cell_type": "markdown",
   "id": "a2f3ddf5",
   "metadata": {},
   "source": [
    "## Store our keys as a file\n",
    "\n",
    "Now we will store our keys in a file such that we can save, share, and manage them."
   ]
  },
  {
   "cell_type": "code",
   "execution_count": null,
   "id": "cf7e7ac1",
   "metadata": {},
   "outputs": [],
   "source": [
    "#Writing down the private and public keys to 'key' files\n",
    "with open('private.key', 'w') as private_file:\n",
    "    private_file.write(private_key_str)\n",
    "    \n",
    "with open('public.key', 'w') as public_file:\n",
    "    public_file.write(public_key_str)"
   ]
  },
  {
   "cell_type": "markdown",
   "id": "c39d0d34",
   "metadata": {},
   "source": [
    "## Importing the stored key\n",
    "We can import the keys back as a ```RsaKey``` objects by reading the files and using the ```import_key()``` function. "
   ]
  },
  {
   "cell_type": "code",
   "execution_count": null,
   "id": "16150276",
   "metadata": {},
   "outputs": [],
   "source": [
    "#Importing keys from files, converting it into the RsaKey object   \n",
    "pr_key = RSA.import_key(open('private.key', 'r').read())\n",
    "pu_key = RSA.import_key(open('public.key', 'r').read())"
   ]
  },
  {
   "cell_type": "markdown",
   "id": "ccdb1e9f",
   "metadata": {},
   "source": [
    "## Finally, the encryption part\n",
    "\n",
    "Let's find a message to encrypt.  "
   ]
  },
  {
   "cell_type": "code",
   "execution_count": null,
   "id": "07b8c92a",
   "metadata": {},
   "outputs": [],
   "source": [
    "# The message to be encrypted\n",
    "message = b'Mike the Tiger is the mascot of Louisiana State University'"
   ]
  },
  {
   "cell_type": "markdown",
   "id": "833623f5",
   "metadata": {},
   "source": [
    "Instantiate an object from ```PKCS1_OAEP.new()``` by taking in the argument public key ```pu_key``` so as to encrypt the message with the public key of the receiver and later the receiver can decrypt the encrypted message using their private key."
   ]
  },
  {
   "cell_type": "code",
   "execution_count": null,
   "id": "e0190359",
   "metadata": {},
   "outputs": [],
   "source": [
    "#Instantiating PKCS1_OAEP object with the public key for encryption\n",
    "cipher = PKCS1_OAEP.new(key=pu_key)\n",
    "#Encrypting the message with the PKCS1_OAEP object\n",
    "cipher_text = cipher.encrypt(message)\n",
    "print(hexlify(cipher_text))\n",
    "# print(cipher_text)"
   ]
  },
  {
   "cell_type": "markdown",
   "id": "5f65d1e0",
   "metadata": {},
   "source": [
    "The encrypted message is sent to receiver after the encrypting the message using the receiver’s public key. So, the receiver can decrypt the encrypted message using their private key.\n",
    "\n",
    "For decryption, instantiate ```new()``` funciton from ```PKCS1_OAEP``` with the private key as the argument. With the ```decrypt()``` method, taking in the encrypted message as the argument, we can get the original message back as follows."
   ]
  },
  {
   "cell_type": "code",
   "execution_count": null,
   "id": "08574f55",
   "metadata": {},
   "outputs": [],
   "source": [
    "#Instantiating PKCS1_OAEP object with the private key for decryption\n",
    "decrypt = PKCS1_OAEP.new(key=pr_key)\n",
    "\n",
    "#Decrypting the message with the PKCS1_OAEP object\n",
    "decrypted_message = decrypt.decrypt(cipher_text)\n",
    "\n",
    "print(decrypted_message)"
   ]
  },
  {
   "cell_type": "code",
   "execution_count": null,
   "id": "fa2f7a7f",
   "metadata": {},
   "outputs": [],
   "source": []
  }
 ],
 "metadata": {
  "kernelspec": {
   "display_name": "Python 3 (ipykernel)",
   "language": "python",
   "name": "python3"
  },
  "language_info": {
   "codemirror_mode": {
    "name": "ipython",
    "version": 3
   },
   "file_extension": ".py",
   "mimetype": "text/x-python",
   "name": "python",
   "nbconvert_exporter": "python",
   "pygments_lexer": "ipython3",
   "version": "3.10.9"
  }
 },
 "nbformat": 4,
 "nbformat_minor": 5
}
